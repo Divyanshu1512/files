{
  "nbformat": 4,
  "nbformat_minor": 0,
  "metadata": {
    "colab": {
      "provenance": []
    },
    "kernelspec": {
      "name": "python3",
      "display_name": "Python 3"
    },
    "language_info": {
      "name": "python"
    }
  },
  "cells": [
    {
      "cell_type": "markdown",
      "source": [
        "Questions"
      ],
      "metadata": {
        "id": "cwUN38tuvQUw"
      }
    },
    {
      "cell_type": "markdown",
      "source": [
        "1. What is the difference between interpreted and compiled languages ?\n",
        "- compiled languages make Code is translated into machine code (binary) by a compiler before execution, creating an executable file.where as interpreted execute the code line by line which helps in flexiable coding.\n",
        "2. What is exception handling in Python ?\n",
        "- Exception handling in python is the process to make the code run if any kind of error comes it will handle by the exception handling and not letting the compelte code break down.\n",
        "3. What is the purpose of the finally block in exception handling ?\n",
        "- If we create exception handling in python and after all the exception or error the finally keywords will give an output despite the code will run or not.\n",
        "4. What is logging in Python?\n",
        "- Logging starts with importing it's library logging which helps in exception handling,there are 5 levels of error waring\n",
        "debug lowest level of debugging\n",
        "INFO this is used to convey how code will work\n",
        "WARNING used to indicate unexpected happen or poterniasl issue in the code\n",
        "error there is something serous eith code\n",
        "critical : terminal of program,which helps to make the code flaw less.\n",
        "5.  What is the significance of the __del__ method in Python ?\n",
        "- The __del__ method in Python, also known as the destructor, is a special method defined in a class to specify actions to be performed when an object is about to be destroyed by the garbage collector. Its significance lies in resource cleanup and finalization tasks .\n",
        "6. What is the difference between import and from ___ import in Python ?\n",
        "- Import means we are importing the compelete library which inclde the module that we might need or not whereas FROM ___ IMPORT represent the specific moule that we needed.\n",
        "\n",
        "7. How can you handle multiple exceptions in Python ?\n",
        "- we can simpily handle this by using try:  combined with except exception as e :which gives the error type in variable 'e'.\n",
        "8. What is the purpose of the with statement when handling files in Python ?\n",
        "- Wiht statement simplifies the file handling to make the file easily to manipulate or update also we don't need to close the file each time it will close automatically.\n",
        "9. What is the difference between multithreading and multiprocessing?\n",
        "- in multiprocessing the single process is done by using many processor which works on that process they have their independemt memory  , whereas the multithreading the process is divided into many parts and many subthreads works on it , they don't have independent memory .\n",
        "\n",
        "\n",
        "\n",
        "\n",
        "\n",
        "\n",
        "\n",
        "\n",
        "\n",
        "\n",
        "\n",
        "\n",
        "\n",
        "\n",
        "\n",
        "\n",
        "\n",
        "\n",
        "\n",
        "\n",
        "\n",
        "\n",
        "\n",
        "\n",
        "\n",
        "\n",
        "\n",
        "10. What are the advantages of using logging in a program ?\n",
        "- Advantages\n",
        " - structured Debugging\n",
        " - Severity Levels\n",
        " - Error Tracking\n",
        " - Thread-Safety\n",
        "\n",
        "\n",
        "11. What is memory management in Python?\n",
        "- Memory management in Python automates how memory is allocated, tracked, and deallocated for objects during program execution, simplifying development. Python uses a private heap managed by its memory manager .\n",
        "\n",
        "12.What are the basic steps involved in exception handling in Python ?\n",
        "- first we need to move the codinf block in try: ands if the try blocks finds any error then if will move the error to except block. and except block will gives the the appropraite answer to the error and if the try block didn't find any error it will siply runs the code.\n",
        "\n",
        "13. Why is memory management important in Python?\n",
        "- memory management is the imporant part of the coding as we need to minimize the excution length of the code and make it flaw less which makes the large code memory consumtion to minimal.\n",
        "\n",
        "\n",
        "\n",
        "\n",
        "\n",
        "\n",
        "\n",
        "\n",
        "\n",
        "\n",
        "\n",
        "\n",
        "14. What is the role of try and except in exception handling?\n",
        "- try execute the code in which error can be take palced if error is not found it will skip the except block and if the error occur then except block will code into work and resolve the issue.\n",
        "\n",
        "\n",
        "15. How does Python's garbage collection system work ?\n",
        "- Python's garbage collection (GC) system manages memory by automatically reclaiming memory from objects no longer in use, complementing its primary reference counting mechanism.it will remove the values that are present in dymanic memory and no one is refrering to that data.\n",
        "\n",
        "16. What is the purpose of the else block in exception handling?\n",
        "- The else block in Python's exception handling executes code when no exception occurs in the try block. Its purpose is to separate the code that should run only on success from the try block, improving readability and logic clarity.\n",
        "\n",
        "\n",
        "\n",
        "\n",
        "\n",
        "\n",
        "17. What are the common logging levels in Python?\n",
        "- debug\n",
        "-INFO\n",
        "- warning\n",
        "-error\n",
        "-critical\n",
        "\n",
        "\n",
        "18. What is the difference between os.fork() and multiprocessing in Python ?\n",
        "-os.fork() is a low-level system call available on Unix-like systems (Linux, macOS, etc.) that creates a new process by duplicating the calling process. The new process is called the child process, and the original is the parent process.The multiprocessing module is a high-level Python library for creating and managing multiple processes, designed to be cross-platform (works on Unix, Windows, etc.).\n",
        "\n",
        "\n",
        "\n",
        "\n",
        "\n",
        "\n",
        "\n",
        "\n",
        "\n",
        "\n",
        "\n",
        "\n",
        "\n",
        "19. What is the importance of closing a file in Python ?\n",
        "- if we don't close the file then the value that hasa been written iin the file won't be saved .\n",
        "\n",
        "20. What is the difference between file.read() and file.readline() in Python?\n",
        "- file.read () contains many feacture in which we can manipulate data as we we need that but in file.readline() output will be line to line.\n",
        "\n",
        "\n",
        "21. What is the logging module in Python used for?\n",
        "-The logging module in Python is used for tracking events, debugging, and monitoring a program’s execution by recording messages at various severity levels. It provides a flexible, configurable way to log information, errors, or warnings, improving code reliability and maintainability .\n",
        "\n",
        "\n",
        "22. What is the os module in Python used for in file handling ?\n",
        "- The os module in Python provides a wide range of functions for interacting with the operating system, including file handling tasks. It enables developers to perform operations like file and directory manipulation, path management, and system-related tasks in a platform-independent way.\n",
        "\n",
        "\n",
        "23. What are the challenges associated with memory management in Python?\n",
        "-\n",
        "24. How do you raise an exception manually in Python?\n",
        "-raise an exception manually using the raise statement to trigger an error explicitly when a specific condition is met. This is useful for enforcing constraints, signaling errors, or creating custom exceptions\n",
        "25. Why is it important to use multithreading in certain applications?\n",
        "-Multithreading is important in certain applications because it enables concurrent execution of tasks within a single process, improving performance, responsiveness, and resource utilization.\n"
      ],
      "metadata": {
        "id": "E68vflZ7vXCp"
      }
    },
    {
      "cell_type": "markdown",
      "source": [
        "practice question"
      ],
      "metadata": {
        "id": "Bpv_OktdgnHR"
      }
    },
    {
      "cell_type": "markdown",
      "source": [
        "1. How can you open a file for writing in Python and write a string to it ?"
      ],
      "metadata": {
        "id": "JuZteTnygpvX"
      }
    },
    {
      "cell_type": "code",
      "source": [
        "file =  open (\"try.txt\",'w')\n",
        "file.write(\"hello everyone\")\n",
        "file.close()"
      ],
      "metadata": {
        "id": "xHibSDUxgpQH"
      },
      "execution_count": null,
      "outputs": []
    },
    {
      "cell_type": "markdown",
      "source": [
        "2. Write a Python program to read the contents of a file and print each line."
      ],
      "metadata": {
        "id": "4Iby7Fl7vAiX"
      }
    },
    {
      "cell_type": "code",
      "source": [
        "file=open(\"try.txt\",'r')\n",
        "for i in file :\n",
        "  print(i)"
      ],
      "metadata": {
        "colab": {
          "base_uri": "https://localhost:8080/"
        },
        "id": "UA-8p6jOvEZf",
        "outputId": "fb29f03b-6486-4161-8db8-b746c3a59e9e"
      },
      "execution_count": null,
      "outputs": [
        {
          "output_type": "stream",
          "name": "stdout",
          "text": [
            "hello everyone\n"
          ]
        }
      ]
    },
    {
      "cell_type": "markdown",
      "source": [
        "3. How would you handle a case where the file doesn't exist while trying to open it for reading?"
      ],
      "metadata": {
        "id": "FyH1IbSKvemH"
      }
    },
    {
      "cell_type": "code",
      "source": [
        "try:\n",
        "  file = open('help.txt','r')\n",
        "except Exception as e :\n",
        "  print(\"file doesn't exist\")"
      ],
      "metadata": {
        "colab": {
          "base_uri": "https://localhost:8080/"
        },
        "id": "98CmKcsavjIs",
        "outputId": "d2b640bb-b8e9-4fca-8227-6360c9017ea1"
      },
      "execution_count": null,
      "outputs": [
        {
          "output_type": "stream",
          "name": "stdout",
          "text": [
            "file doesn't exist\n"
          ]
        }
      ]
    },
    {
      "cell_type": "markdown",
      "source": [
        "4.  Write a Python script that reads from one file and writes its content to another file ."
      ],
      "metadata": {
        "id": "Pn9PE93EwALz"
      }
    },
    {
      "cell_type": "code",
      "source": [
        "file=open('try.txt','r')\n",
        "for i in file :\n",
        "  output=open('data.txt','w')\n",
        "  output.write(i)\n",
        "output.close()"
      ],
      "metadata": {
        "id": "YUq8T_9mwCjW"
      },
      "execution_count": null,
      "outputs": []
    },
    {
      "cell_type": "markdown",
      "source": [
        "5. How would you catch and handle division by zero error in Python ?"
      ],
      "metadata": {
        "id": "4cekKcsWwZPY"
      }
    },
    {
      "cell_type": "code",
      "source": [
        "try:\n",
        "  21/0 #divison by zero\n",
        "except Exception as m :\n",
        "  print(\"you're  getting an error kindly change denemorator\",m)"
      ],
      "metadata": {
        "colab": {
          "base_uri": "https://localhost:8080/"
        },
        "id": "NyeTbnDnwjIn",
        "outputId": "e8beff6f-803b-4fa1-df5d-545ec957c3c6"
      },
      "execution_count": null,
      "outputs": [
        {
          "output_type": "stream",
          "name": "stdout",
          "text": [
            "you're  getting an error kindly change denemorator division by zero\n"
          ]
        }
      ]
    },
    {
      "cell_type": "markdown",
      "source": [
        "6. Write a Python program that logs an error message to a log file when a division by zero exception occurs."
      ],
      "metadata": {
        "id": "Kp7RHnPCw-oC"
      }
    },
    {
      "cell_type": "code",
      "source": [
        "import logging\n",
        "logging.basicConfig(\n",
        "    filename='test.log',\n",
        "    level=logging.ERROR,\n",
        "    format='%(asctime)s - %(levelname)s - %(message)s',\n",
        "\n",
        ")\n",
        "try:\n",
        "    result = 21 / 0\n",
        "except ZeroDivisionError as e:\n",
        "    logging.error(f\"Division by zero error occurred: {e}\")\n",
        "    print(\"An error occurred. Check test.log for details.\")"
      ],
      "metadata": {
        "colab": {
          "base_uri": "https://localhost:8080/"
        },
        "id": "pdrdTi_SxDKM",
        "outputId": "0c889792-4059-4c25-d341-1cb51c784b54"
      },
      "execution_count": 7,
      "outputs": [
        {
          "output_type": "stream",
          "name": "stdout",
          "text": [
            "An error occurred. Check test.log for details.\n"
          ]
        }
      ]
    },
    {
      "cell_type": "markdown",
      "source": [
        "7. How do you log information at different levels (INFO, ERROR, WARNING) in Python using the logging module ?"
      ],
      "metadata": {
        "id": "DAj_V3C9I51s"
      }
    },
    {
      "cell_type": "code",
      "source": [
        "import logging\n",
        "\n",
        "\n",
        "logging.basicConfig(\n",
        "    level=logging.DEBUG,\n",
        "    filename='app.log',\n",
        "    filemode='w'\n",
        ")\n",
        "\n",
        "\n",
        "logger = logging.getLogger('MyApp')\n",
        "\n",
        "# Add a console handler to also print logs to the console\n",
        "console_handler = logging.StreamHandler()\n",
        "console_handler.setLevel(logging.DEBUG)  # Set level for console\n",
        "formatter = logging.Formatter('%(asctime)s - %(levelname)s - %(message)s')\n",
        "console_handler.setFormatter(formatter)\n",
        "logger.addHandler(console_handler)\n",
        "\n",
        "# Log messages at different levels\n",
        "logger.debug('This is a debug message for detailed diagnostics.')\n",
        "logger.info('This is an info message for general updates.')\n",
        "logger.warning('This is a warning message for potential issues.')\n",
        "logger.error('This is an error message for serious problems.')\n",
        "logger.critical('This is a critical message for fatal errors.')"
      ],
      "metadata": {
        "colab": {
          "base_uri": "https://localhost:8080/"
        },
        "id": "VlFDOVrKI7JN",
        "outputId": "c91200ae-9a21-4f41-9bb9-288c09f17737"
      },
      "execution_count": 12,
      "outputs": [
        {
          "output_type": "stream",
          "name": "stderr",
          "text": [
            "2025-08-04 17:48:02,127 - INFO - This is an info message for general updates.\n",
            "This is an info message for general updates.\n",
            "2025-08-04 17:48:02,127 - INFO - This is an info message for general updates.\n",
            "2025-08-04 17:48:02,127 - INFO - This is an info message for general updates.\n",
            "2025-08-04 17:48:02,131 - WARNING - This is a warning message for potential issues.\n",
            "This is a warning message for potential issues.\n",
            "2025-08-04 17:48:02,131 - WARNING - This is a warning message for potential issues.\n",
            "2025-08-04 17:48:02,131 - WARNING - This is a warning message for potential issues.\n",
            "2025-08-04 17:48:02,134 - ERROR - This is an error message for serious problems.\n",
            "This is an error message for serious problems.\n",
            "2025-08-04 17:48:02,134 - ERROR - This is an error message for serious problems.\n",
            "2025-08-04 17:48:02,134 - ERROR - This is an error message for serious problems.\n",
            "2025-08-04 17:48:02,142 - CRITICAL - This is a critical message for fatal errors.\n",
            "This is a critical message for fatal errors.\n",
            "2025-08-04 17:48:02,142 - CRITICAL - This is a critical message for fatal errors.\n",
            "2025-08-04 17:48:02,142 - CRITICAL - This is a critical message for fatal errors.\n"
          ]
        }
      ]
    },
    {
      "cell_type": "markdown",
      "source": [
        "8. Write a program to handle a file opening error using exception handling .\n"
      ],
      "metadata": {
        "id": "YgeYLT09MpxD"
      }
    },
    {
      "cell_type": "code",
      "source": [
        "try :\n",
        "  file = open(\"file.txt\",'r')\n",
        "except Exception as m :\n",
        "  print(f\"file can't be open due to{m}\")"
      ],
      "metadata": {
        "colab": {
          "base_uri": "https://localhost:8080/"
        },
        "id": "zIRXvwqrMwKI",
        "outputId": "8471b1e9-4195-473c-b4c3-d96b2230345f"
      },
      "execution_count": 13,
      "outputs": [
        {
          "output_type": "stream",
          "name": "stdout",
          "text": [
            "file can't be open due to[Errno 2] No such file or directory: 'file.txt'\n"
          ]
        }
      ]
    },
    {
      "cell_type": "markdown",
      "source": [
        "9. How can you read a file line by line and store its content in a list in Python"
      ],
      "metadata": {
        "id": "EsBf2droNJLE"
      }
    },
    {
      "cell_type": "code",
      "source": [
        "with open('file.txt', 'r') as file:\n",
        "    lines = file.readlines()"
      ],
      "metadata": {
        "id": "tOKDJI-ZNI9e"
      },
      "execution_count": null,
      "outputs": []
    },
    {
      "cell_type": "markdown",
      "source": [
        "10. How can you append data to an existing file in Python?"
      ],
      "metadata": {
        "id": "5l4WAz96NXyg"
      }
    },
    {
      "cell_type": "code",
      "source": [
        "go=open('file.txt','a')\n",
        "go.write(\"today date is 17 januray\")\n",
        "go.close()"
      ],
      "metadata": {
        "id": "_qMLfi3KNcYw"
      },
      "execution_count": 15,
      "outputs": []
    },
    {
      "cell_type": "markdown",
      "source": [
        "11.Write a Python program that uses a try-except block to handle an error when attempting to access a\n",
        "dictionary key that doesn't exist ."
      ],
      "metadata": {
        "id": "FsX1B3tQN28G"
      }
    },
    {
      "cell_type": "code",
      "source": [
        "my_dict = {'name': 'Alice', 'age': 25, 'city': 'New York'}\n",
        "\n",
        "def get_dict_value(dictionary, key):\n",
        "    try:\n",
        "        value = dictionary[key]\n",
        "        print(f\"The value for key '{key}' is: {value}\")\n",
        "    except KeyError:\n",
        "        print(f\"Error: The key '{key}' does not exist in the dictionary.\")\n",
        "\n",
        "\n",
        "get_dict_value(my_dict, 'name')\n",
        "get_dict_value(my_dict, 'country')"
      ],
      "metadata": {
        "colab": {
          "base_uri": "https://localhost:8080/"
        },
        "id": "z4aUj-cgN51g",
        "outputId": "326f101a-9bd8-429f-cc06-52b1bec8900e"
      },
      "execution_count": 16,
      "outputs": [
        {
          "output_type": "stream",
          "name": "stdout",
          "text": [
            "The value for key 'name' is: Alice\n",
            "Error: The key 'country' does not exist in the dictionary.\n"
          ]
        }
      ]
    },
    {
      "cell_type": "markdown",
      "source": [
        "12.Write a program that demonstrates using multiple except blocks to handle different types of exceptions."
      ],
      "metadata": {
        "id": "9X_TjtpAOH5S"
      }
    },
    {
      "cell_type": "code",
      "source": [
        "def process_data(data, index, divisor):\n",
        "    try:\n",
        "\n",
        "        value = data[index]\n",
        "        result = int(value) / divisor\n",
        "        print(f\"Result: {result}\")\n",
        "\n",
        "    except IndexError:\n",
        "        print(f\"Error: Index {index} is out of range for the given data\")\n",
        "\n",
        "    except ValueError:\n",
        "        print(\"Error: Unable to convert value to integer\")\n",
        "\n",
        "    except ZeroDivisionError:\n",
        "        print(\"Error: Division by zero is not allowed\")\n",
        "\n",
        "    except Exception as e:\n",
        "        print(f\"Unexpected error occurred: {str(e)}\")\n",
        "\n",
        "\n",
        "def main():\n",
        "\n",
        "    data = [\"10\", \"20\", \"abc\", \"30\"]\n",
        "\n",
        "\n",
        "    print(\"Test 1: Valid operation\")\n",
        "    process_data(data, 1, 2)\n",
        "\n",
        "\n",
        "    print(\"\\nTest 2: Out of range index\")\n",
        "    process_data(data, 10, 2)\n",
        "\n",
        "\n",
        "    print(\"\\nTest 3: Invalid value for conversion\")\n",
        "    process_data(data, 2, 2)\n",
        "\n",
        "\n",
        "    print(\"\\nTest 4: Division by zero\")\n",
        "    process_data(data, 0, 0)\n",
        "\n",
        "if __name__ == \"__main__\":\n",
        "    main()"
      ],
      "metadata": {
        "colab": {
          "base_uri": "https://localhost:8080/"
        },
        "id": "lX0DpL_EOJVI",
        "outputId": "4a8f840f-3231-4886-86d6-9d4a671a5fdd"
      },
      "execution_count": 17,
      "outputs": [
        {
          "output_type": "stream",
          "name": "stdout",
          "text": [
            "Test 1: Valid operation\n",
            "Result: 10.0\n",
            "\n",
            "Test 2: Out of range index\n",
            "Error: Index 10 is out of range for the given data\n",
            "\n",
            "Test 3: Invalid value for conversion\n",
            "Error: Unable to convert value to integer\n",
            "\n",
            "Test 4: Division by zero\n",
            "Error: Division by zero is not allowed\n"
          ]
        }
      ]
    },
    {
      "cell_type": "markdown",
      "source": [
        "13. How would you check if a file exists before attempting to read it in Python"
      ],
      "metadata": {
        "id": "-qEe0Yz5PW3b"
      }
    },
    {
      "cell_type": "code",
      "source": [
        "try:\n",
        "    m = open(\"help.txt\", 'r')\n",
        "except FileNotFoundError:\n",
        "    print(\"file not exist\")"
      ],
      "metadata": {
        "colab": {
          "base_uri": "https://localhost:8080/"
        },
        "id": "Kix1WG3MPWsH",
        "outputId": "8de11b31-0ec6-46a3-95ac-5a3c8fd757d3"
      },
      "execution_count": 21,
      "outputs": [
        {
          "output_type": "stream",
          "name": "stdout",
          "text": [
            "file not exist\n"
          ]
        }
      ]
    },
    {
      "cell_type": "markdown",
      "source": [
        "14.  Write a program that uses the logging module to log both informational and error messages ."
      ],
      "metadata": {
        "id": "6Ls2ZwZvQPyS"
      }
    },
    {
      "cell_type": "code",
      "source": [
        "import logging\n",
        "logging.basicConfig(filename='app.log', level=logging.INFO, format='%(levelname)s: %(message)s')\n",
        "\n",
        "def divide(a, b):\n",
        "    logging.info(f\"Trying to divide {a} by {b}\")\n",
        "    try:\n",
        "        result = a / b\n",
        "        logging.info(f\"Result: {result}\")\n",
        "        return result\n",
        "    except ZeroDivisionError:\n",
        "        logging.error(\"Cannot divide by zero\")\n",
        "        return None\n",
        "\n",
        "# Test the function\n",
        "divide(10, 2)\n",
        "divide(10, 0)"
      ],
      "metadata": {
        "id": "hg8UjyYCQlMP"
      },
      "execution_count": 24,
      "outputs": []
    },
    {
      "cell_type": "markdown",
      "source": [
        "15. Write a Python program that prints the content of a file and handles the case when the file is empty."
      ],
      "metadata": {
        "id": "2SUOWQQVRAXw"
      }
    },
    {
      "cell_type": "code",
      "source": [
        "import logging\n",
        "\n",
        "logging.basicConfig(filename='file.log', level=logging.INFO)\n",
        "\n",
        "def read_file(filename):\n",
        "    try:\n",
        "        with open(filename, 'r') as file:\n",
        "            content = file.read()\n",
        "            logging.info(f\"Read {filename}\")\n",
        "            print(\"Empty file\" if not content else content)\n",
        "    except FileNotFoundError:\n",
        "        logging.error(f\"No file: {filename}\")\n",
        "        print(\"File not found\")\n",
        "\n",
        "read_file(\"sample.txt\")"
      ],
      "metadata": {
        "colab": {
          "base_uri": "https://localhost:8080/"
        },
        "id": "Oum011EeRfHS",
        "outputId": "68e96746-e7bb-4155-d704-0eeb697edb52"
      },
      "execution_count": 25,
      "outputs": [
        {
          "output_type": "stream",
          "name": "stdout",
          "text": [
            "File not found\n"
          ]
        }
      ]
    },
    {
      "cell_type": "markdown",
      "source": [
        "16.  Demonstrate how to use memory profiling to check the memory usage of a small program."
      ],
      "metadata": {
        "id": "1DRvi0epRhN4"
      }
    },
    {
      "cell_type": "markdown",
      "source": [
        "17. Write a Python program to create and write a list of numbers to a file, one number per line"
      ],
      "metadata": {
        "id": "PZtyr6q1ZXzL"
      }
    },
    {
      "cell_type": "code",
      "source": [
        "numbers = [1, 2, 3, 4, 5, 6, 7, 8, 9, 10]\n",
        "\n",
        "with open('numbers.txt', 'w') as file:\n",
        "    for number in numbers:\n",
        "        file.write(f\"{number}\\n\")\n",
        ""
      ],
      "metadata": {
        "id": "3nCCDMv1Zb23"
      },
      "execution_count": 31,
      "outputs": []
    },
    {
      "cell_type": "markdown",
      "source": [
        "18. How would you implement a basic logging setup that logs to a file with rotation after 1MB?"
      ],
      "metadata": {
        "id": "GZEKsvEUZurx"
      }
    },
    {
      "cell_type": "code",
      "source": [],
      "metadata": {
        "id": "SaGjfMntaA47"
      },
      "execution_count": null,
      "outputs": []
    },
    {
      "cell_type": "markdown",
      "source": [
        "19. Write a program that handles both IndexError and KeyError using a try-except block"
      ],
      "metadata": {
        "id": "OjxuS0hRaDhn"
      }
    },
    {
      "cell_type": "code",
      "source": [
        "my_list = [1, 2, 3]\n",
        "my_dict = {\"a\": 1, \"b\": 2}\n",
        "\n",
        "try:\n",
        "    print(my_list[5])\n",
        "except IndexError:\n",
        "    print(\"Error: Invalid list index\")\n",
        "\n",
        "try:\n",
        "    print(my_dict[\"c\"])\n",
        "except KeyError:\n",
        "    print(\"Error: Invalid dictionary key\")"
      ],
      "metadata": {
        "colab": {
          "base_uri": "https://localhost:8080/"
        },
        "id": "GVRH5Q_eaQeD",
        "outputId": "409b903f-c238-4066-a5a2-3760d9743ad9"
      },
      "execution_count": 36,
      "outputs": [
        {
          "output_type": "stream",
          "name": "stdout",
          "text": [
            "Error: Invalid list index\n",
            "Error: Invalid dictionary key\n"
          ]
        }
      ]
    },
    {
      "cell_type": "markdown",
      "source": [
        "20. F How would you open a file and read its contents using a context manager in Python."
      ],
      "metadata": {
        "id": "CBjkOodfa0KE"
      }
    },
    {
      "cell_type": "code",
      "source": [
        "try:\n",
        "    with open('file.txt', 'r') as file:\n",
        "        content = file.read()\n",
        "        print(content)\n",
        "except FileNotFoundError:\n",
        "    print(\"Error: File not found\")\n",
        "except IOError:\n",
        "    print(\"Error: Unable to read file\")"
      ],
      "metadata": {
        "id": "VIisOKc4a4dA"
      },
      "execution_count": null,
      "outputs": []
    }
  ]
}